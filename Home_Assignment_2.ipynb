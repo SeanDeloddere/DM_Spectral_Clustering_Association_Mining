{
 "cells": [
  {
   "cell_type": "markdown",
   "metadata": {},
   "source": [
    "# Home Assignment 2"
   ]
  },
  {
   "cell_type": "markdown",
   "metadata": {},
   "source": [
    "name: Sean Deloddere<br>\n",
    "studentnr: 914691"
   ]
  },
  {
   "cell_type": "markdown",
   "metadata": {},
   "source": [
    "## Preparation"
   ]
  },
  {
   "cell_type": "markdown",
   "metadata": {},
   "source": [
    "### Load packages"
   ]
  },
  {
   "cell_type": "code",
   "execution_count": 1,
   "metadata": {},
   "outputs": [],
   "source": [
    "# Load the required packages\n",
    "import pandas as pd\n",
    "import numpy as np\n",
    "import seaborn as sns\n",
    "import matplotlib.pyplot as plt\n",
    "from scipy import stats\n",
    "plt.rcParams[\"figure.figsize\"] = (10,10) # Set the size of the display images"
   ]
  },
  {
   "cell_type": "markdown",
   "metadata": {},
   "source": [
    "## Exercise 1"
   ]
  },
  {
   "cell_type": "markdown",
   "metadata": {},
   "source": [
    "### Preparation"
   ]
  },
  {
   "cell_type": "markdown",
   "metadata": {},
   "source": [
    "#### Load data"
   ]
  },
  {
   "cell_type": "code",
   "execution_count": 2,
   "metadata": {},
   "outputs": [
    {
     "data": {
      "text/html": [
       "<div>\n",
       "<style scoped>\n",
       "    .dataframe tbody tr th:only-of-type {\n",
       "        vertical-align: middle;\n",
       "    }\n",
       "\n",
       "    .dataframe tbody tr th {\n",
       "        vertical-align: top;\n",
       "    }\n",
       "\n",
       "    .dataframe thead th {\n",
       "        text-align: right;\n",
       "    }\n",
       "</style>\n",
       "<table border=\"1\" class=\"dataframe\">\n",
       "  <thead>\n",
       "    <tr style=\"text-align: right;\">\n",
       "      <th></th>\n",
       "      <th>x</th>\n",
       "      <th>y</th>\n",
       "      <th>label</th>\n",
       "    </tr>\n",
       "  </thead>\n",
       "  <tbody>\n",
       "    <tr>\n",
       "      <th>0</th>\n",
       "      <td>31.95</td>\n",
       "      <td>7.95</td>\n",
       "      <td>3</td>\n",
       "    </tr>\n",
       "    <tr>\n",
       "      <th>1</th>\n",
       "      <td>31.15</td>\n",
       "      <td>7.30</td>\n",
       "      <td>3</td>\n",
       "    </tr>\n",
       "    <tr>\n",
       "      <th>2</th>\n",
       "      <td>30.45</td>\n",
       "      <td>6.65</td>\n",
       "      <td>3</td>\n",
       "    </tr>\n",
       "    <tr>\n",
       "      <th>3</th>\n",
       "      <td>29.70</td>\n",
       "      <td>6.00</td>\n",
       "      <td>3</td>\n",
       "    </tr>\n",
       "    <tr>\n",
       "      <th>4</th>\n",
       "      <td>28.90</td>\n",
       "      <td>5.55</td>\n",
       "      <td>3</td>\n",
       "    </tr>\n",
       "    <tr>\n",
       "      <th>...</th>\n",
       "      <td>...</td>\n",
       "      <td>...</td>\n",
       "      <td>...</td>\n",
       "    </tr>\n",
       "    <tr>\n",
       "      <th>307</th>\n",
       "      <td>15.75</td>\n",
       "      <td>13.85</td>\n",
       "      <td>2</td>\n",
       "    </tr>\n",
       "    <tr>\n",
       "      <th>308</th>\n",
       "      <td>15.65</td>\n",
       "      <td>14.05</td>\n",
       "      <td>2</td>\n",
       "    </tr>\n",
       "    <tr>\n",
       "      <th>309</th>\n",
       "      <td>15.65</td>\n",
       "      <td>14.25</td>\n",
       "      <td>2</td>\n",
       "    </tr>\n",
       "    <tr>\n",
       "      <th>310</th>\n",
       "      <td>15.65</td>\n",
       "      <td>14.50</td>\n",
       "      <td>2</td>\n",
       "    </tr>\n",
       "    <tr>\n",
       "      <th>311</th>\n",
       "      <td>15.65</td>\n",
       "      <td>14.60</td>\n",
       "      <td>2</td>\n",
       "    </tr>\n",
       "  </tbody>\n",
       "</table>\n",
       "<p>312 rows × 3 columns</p>\n",
       "</div>"
      ],
      "text/plain": [
       "         x      y  label\n",
       "0    31.95   7.95      3\n",
       "1    31.15   7.30      3\n",
       "2    30.45   6.65      3\n",
       "3    29.70   6.00      3\n",
       "4    28.90   5.55      3\n",
       "..     ...    ...    ...\n",
       "307  15.75  13.85      2\n",
       "308  15.65  14.05      2\n",
       "309  15.65  14.25      2\n",
       "310  15.65  14.50      2\n",
       "311  15.65  14.60      2\n",
       "\n",
       "[312 rows x 3 columns]"
      ]
     },
     "execution_count": 2,
     "metadata": {},
     "output_type": "execute_result"
    }
   ],
   "source": [
    "data = pd.read_csv('spiral.txt', sep=\"\\t\", header=None)\n",
    "data.columns = [\"x\",\"y\",\"label\"]\n",
    "data"
   ]
  },
  {
   "cell_type": "markdown",
   "metadata": {},
   "source": [
    "#### Visualize data"
   ]
  },
  {
   "cell_type": "code",
   "execution_count": 3,
   "metadata": {},
   "outputs": [
    {
     "data": {
      "image/png": "[encoded data removed]",
      "text/plain": [
       "<Figure size 720x720 with 1 Axes>"
      ]
     },
     "metadata": {
      "needs_background": "light"
     },
     "output_type": "display_data"
    }
   ],
   "source": [
    "plt.scatter(x=data[\"x\"],y=data[\"y\"],c=data[\"label\"])\n",
    "plt.xlabel('1st column value')\n",
    "plt.ylabel('2nd column value')\n",
    "plt.title('spiral.txt')\n",
    "plt.show()"
   ]
  },
  {
   "cell_type": "markdown",
   "metadata": {},
   "source": [
    "#### Seperate first 2 columns for clustering"
   ]
  },
  {
   "cell_type": "code",
   "execution_count": 4,
   "metadata": {},
   "outputs": [
    {
     "data": {
      "text/html": [
       "<div>\n",
       "<style scoped>\n",
       "    .dataframe tbody tr th:only-of-type {\n",
       "        vertical-align: middle;\n",
       "    }\n",
       "\n",
       "    .dataframe tbody tr th {\n",
       "        vertical-align: top;\n",
       "    }\n",
       "\n",
       "    .dataframe thead th {\n",
       "        text-align: right;\n",
       "    }\n",
       "</style>\n",
       "<table border=\"1\" class=\"dataframe\">\n",
       "  <thead>\n",
       "    <tr style=\"text-align: right;\">\n",
       "      <th></th>\n",
       "      <th>x</th>\n",
       "      <th>y</th>\n",
       "    </tr>\n",
       "  </thead>\n",
       "  <tbody>\n",
       "    <tr>\n",
       "      <th>0</th>\n",
       "      <td>31.95</td>\n",
       "      <td>7.95</td>\n",
       "    </tr>\n",
       "    <tr>\n",
       "      <th>1</th>\n",
       "      <td>31.15</td>\n",
       "      <td>7.30</td>\n",
       "    </tr>\n",
       "    <tr>\n",
       "      <th>2</th>\n",
       "      <td>30.45</td>\n",
       "      <td>6.65</td>\n",
       "    </tr>\n",
       "    <tr>\n",
       "      <th>3</th>\n",
       "      <td>29.70</td>\n",
       "      <td>6.00</td>\n",
       "    </tr>\n",
       "    <tr>\n",
       "      <th>4</th>\n",
       "      <td>28.90</td>\n",
       "      <td>5.55</td>\n",
       "    </tr>\n",
       "    <tr>\n",
       "      <th>...</th>\n",
       "      <td>...</td>\n",
       "      <td>...</td>\n",
       "    </tr>\n",
       "    <tr>\n",
       "      <th>307</th>\n",
       "      <td>15.75</td>\n",
       "      <td>13.85</td>\n",
       "    </tr>\n",
       "    <tr>\n",
       "      <th>308</th>\n",
       "      <td>15.65</td>\n",
       "      <td>14.05</td>\n",
       "    </tr>\n",
       "    <tr>\n",
       "      <th>309</th>\n",
       "      <td>15.65</td>\n",
       "      <td>14.25</td>\n",
       "    </tr>\n",
       "    <tr>\n",
       "      <th>310</th>\n",
       "      <td>15.65</td>\n",
       "      <td>14.50</td>\n",
       "    </tr>\n",
       "    <tr>\n",
       "      <th>311</th>\n",
       "      <td>15.65</td>\n",
       "      <td>14.60</td>\n",
       "    </tr>\n",
       "  </tbody>\n",
       "</table>\n",
       "<p>312 rows × 2 columns</p>\n",
       "</div>"
      ],
      "text/plain": [
       "         x      y\n",
       "0    31.95   7.95\n",
       "1    31.15   7.30\n",
       "2    30.45   6.65\n",
       "3    29.70   6.00\n",
       "4    28.90   5.55\n",
       "..     ...    ...\n",
       "307  15.75  13.85\n",
       "308  15.65  14.05\n",
       "309  15.65  14.25\n",
       "310  15.65  14.50\n",
       "311  15.65  14.60\n",
       "\n",
       "[312 rows x 2 columns]"
      ]
     },
     "execution_count": 4,
     "metadata": {},
     "output_type": "execute_result"
    }
   ],
   "source": [
    "data_num = data[[\"x\",\"y\"]]\n",
    "data_num"
   ]
  },
  {
   "cell_type": "markdown",
   "metadata": {},
   "source": [
    "### Clustering"
   ]
  },
  {
   "cell_type": "markdown",
   "metadata": {},
   "source": [
    "#### a) K-means"
   ]
  },
  {
   "cell_type": "markdown",
   "metadata": {},
   "source": [
    "From the data given we already know that we are supposed to find 3 clusters, so I will set the number of clusters to 3."
   ]
  },
  {
   "cell_type": "code",
   "execution_count": 5,
   "metadata": {},
   "outputs": [
    {
     "data": {
      "image/png": "[encoded data removed]",
      "text/plain": [
       "<Figure size 720x720 with 1 Axes>"
      ]
     },
     "metadata": {
      "needs_background": "light"
     },
     "output_type": "display_data"
    }
   ],
   "source": [
    "from sklearn.cluster import KMeans\n",
    "\n",
    "kmeans = KMeans(n_clusters=3, random_state=0).fit(data_num)\n",
    "\n",
    "plt.scatter(x=kmeans.cluster_centers_[:,0],y=kmeans.cluster_centers_[:,1],c=['purple','blue','yellow'],s=400,marker=\"*\")\n",
    "plt.scatter(x=data[\"x\"],y=data[\"y\"],c=kmeans.labels_)\n",
    "plt.xlabel('1st column value')\n",
    "plt.ylabel('2nd column value')\n",
    "plt.title('Kmeans clustering of spiral.txt')\n",
    "plt.show()"
   ]
  },
  {
   "cell_type": "markdown",
   "metadata": {},
   "source": [
    "As expected from Kmeans, the datapoints are not clustered together according to their original labels. Kmeans will group points together based on their distance to the nearest means of an existing cluster, which means that the algorithm has no way of picking up on the spiral pattern that we see here, and the clustering will result in the three way split we clearly see here on the plot."
   ]
  },
  {
   "cell_type": "markdown",
   "metadata": {},
   "source": [
    "### b) Spectral clustering"
   ]
  },
  {
   "cell_type": "code",
   "execution_count": 6,
   "metadata": {},
   "outputs": [
    {
     "data": {
      "image/png": "[encoded data removed]",
      "text/plain": [
       "<Figure size 720x720 with 1 Axes>"
      ]
     },
     "metadata": {
      "needs_background": "light"
     },
     "output_type": "display_data"
    }
   ],
   "source": [
    "from sklearn.cluster import SpectralClustering\n",
    "\n",
    "spec_clustering = SpectralClustering(n_clusters=3,random_state=0).fit(data_num)\n",
    "\n",
    "plt.scatter(x=data[\"x\"],y=data[\"y\"],c=spec_clustering.labels_)\n",
    "plt.xlabel('1st column value')\n",
    "plt.ylabel('2nd column value')\n",
    "plt.title('Spectral clustering of spiral.txt')\n",
    "plt.show()"
   ]
  },
  {
   "cell_type": "markdown",
   "metadata": {},
   "source": [
    "Here we clearly see that spectral clustering did a much better job at picking up on the spiral pattern. This makes sense because the (normalized, in the case of this library) Laplacian used in spectral clustering has the property that minimizing y.t L y is equivalent to minimizing sum(i..n) sum(j..n) w_ij (y_i-y_j)^2 . So spectral clustering inherently will look to put the most weight on the differences between points that are the closest to each other. So spectral clustering has an easier time picking up on stringlike patterns, since the points that are right next to each other should be in the same cluster."
   ]
  },
  {
   "cell_type": "markdown",
   "metadata": {},
   "source": [
    "### Compute the quality of the resulting clusters using the following indices"
   ]
  },
  {
   "cell_type": "markdown",
   "metadata": {},
   "source": [
    "#### a) Silhouette"
   ]
  },
  {
   "cell_type": "code",
   "execution_count": 7,
   "metadata": {},
   "outputs": [
    {
     "name": "stdout",
     "output_type": "stream",
     "text": [
      "Silhouette score for kmeans: 0.36016366346232903\n",
      "Silhouette score for spectral clustering: 0.0013442973442779936\n"
     ]
    }
   ],
   "source": [
    "from sklearn.metrics import silhouette_score\n",
    "\n",
    "Sil_kmeans = silhouette_score(data_num, kmeans.labels_, metric='euclidean')\n",
    "Sil_spectr = silhouette_score(data_num, spec_clustering.labels_, metric='euclidean')\n",
    "\n",
    "print(\"Silhouette score for kmeans: \"+str(Sil_kmeans))\n",
    "print(\"Silhouette score for spectral clustering: \"+str(Sil_spectr))"
   ]
  },
  {
   "cell_type": "markdown",
   "metadata": {},
   "source": [
    "#### b) Davies-Bouldin"
   ]
  },
  {
   "cell_type": "code",
   "execution_count": 8,
   "metadata": {},
   "outputs": [
    {
     "name": "stdout",
     "output_type": "stream",
     "text": [
      "Davies-Bouldin score for kmeans: 0.8859880133973296\n",
      "Davies-Bouldin score for spectral clustering: 5.882022552277642\n"
     ]
    }
   ],
   "source": [
    "from sklearn.metrics import davies_bouldin_score\n",
    "\n",
    "db_kmeans = davies_bouldin_score(data_num, kmeans.labels_)\n",
    "db_spectr = davies_bouldin_score(data_num, spec_clustering.labels_)\n",
    "\n",
    "print(\"Davies-Bouldin score for kmeans: \"+str(db_kmeans))\n",
    "print(\"Davies-Bouldin score for spectral clustering: \"+str(db_spectr))"
   ]
  },
  {
   "cell_type": "markdown",
   "metadata": {},
   "source": [
    "#### c) Normalized Mutual Information"
   ]
  },
  {
   "cell_type": "code",
   "execution_count": 9,
   "metadata": {},
   "outputs": [
    {
     "name": "stdout",
     "output_type": "stream",
     "text": [
      "Normalized Mutual Information for kmeans: 0.0005404343708784823\n",
      "Normalized Mutual Information for spectral clustering: 1.0\n"
     ]
    }
   ],
   "source": [
    "from sklearn.metrics.cluster import normalized_mutual_info_score\n",
    "\n",
    "nmi_kmeans = normalized_mutual_info_score(data[\"label\"], kmeans.labels_)\n",
    "nmi_spectr = normalized_mutual_info_score(data[\"label\"], spec_clustering.labels_)\n",
    "\n",
    "print(\"Normalized Mutual Information for kmeans: \"+str(nmi_kmeans))\n",
    "print(\"Normalized Mutual Information for spectral clustering: \"+str(nmi_spectr))"
   ]
  },
  {
   "cell_type": "markdown",
   "metadata": {},
   "source": [
    "### ranking"
   ]
  },
  {
   "cell_type": "markdown",
   "metadata": {},
   "source": [
    "Silhouette & Davies-Bouldin\n",
    "1. kmeans\n",
    "2. spectral\n",
    "\n",
    "NMI\n",
    "1. spectral\n",
    "2. kmeans\n",
    "\n",
    "The Silhouette and Davies-Bouldin metrics seem to indicate that the kmeans algorithm performed better, which makes sense (in the context of these metrics), since the points are clustered together with other points that they are 'spacially' closest too. However, when we look at the NMI, and at plots, to compare the resulting clustering to the actual labels, we notice that spectral clustering actually far outperformed kmeans. This is because spectral clustering takes into account the relations between points, and thus looks at the closest neighbours of each node, and manages to pick up the spiral patern that kmeans can not pick up. All in all we can conclude that spectral clustering performs better on this data, and that we should be careful when using certain metrics to check the performance of certain algorithms on certain data sets.\n",
    "\n",
    "One thing to keep in mind with NMI is that we need the actual label to compare how good it worked though, while the other metrics can be used without any information on how the result is supposed to look."
   ]
  },
  {
   "cell_type": "markdown",
   "metadata": {},
   "source": [
    "## Exercise 2"
   ]
  },
  {
   "cell_type": "code",
   "execution_count": 10,
   "metadata": {},
   "outputs": [],
   "source": [
    "data_num_np = data_num.to_numpy()"
   ]
  },
  {
   "cell_type": "markdown",
   "metadata": {},
   "source": [
    "#### Kernel function:"
   ]
  },
  {
   "cell_type": "code",
   "execution_count": 11,
   "metadata": {},
   "outputs": [],
   "source": [
    "def Kernel(x_i,x_j):\n",
    "    var = 1\n",
    "    return np.exp(-(((x_i[0]-x_j[0])**2+(x_i[1]-x_j[1])**2))/(2*var))"
   ]
  },
  {
   "cell_type": "markdown",
   "metadata": {},
   "source": [
    "Testin Kernel function and deciding on variance:"
   ]
  },
  {
   "cell_type": "code",
   "execution_count": 12,
   "metadata": {},
   "outputs": [
    {
     "name": "stdout",
     "output_type": "stream",
     "text": [
      "0.5878696731223461\n"
     ]
    }
   ],
   "source": [
    "print(Kernel(data_num_np[0],data_num_np[1]))"
   ]
  },
  {
   "cell_type": "code",
   "execution_count": 13,
   "metadata": {},
   "outputs": [
    {
     "name": "stdout",
     "output_type": "stream",
     "text": [
      "x    53.288880\n",
      "y    47.158871\n",
      "dtype: float64\n"
     ]
    }
   ],
   "source": [
    "print(data_num.var())"
   ]
  },
  {
   "cell_type": "markdown",
   "metadata": {},
   "source": [
    "I figured out that keeping var low means that only the closest points get taken into account, since the slope of the normal distribution is quite steep, while when choosing a high var points further away will also contribute quite a lot to the score, because the slope is less steep. Since we know that our desired clusters are string-like, it is best to keep the var low so that only the closest points are taken into account."
   ]
  },
  {
   "cell_type": "markdown",
   "metadata": {},
   "source": [
    "#### Cluster function:"
   ]
  },
  {
   "cell_type": "code",
   "execution_count": 14,
   "metadata": {},
   "outputs": [],
   "source": [
    "def Clust(label_i,label_j):\n",
    "    if(label_i == label_j):\n",
    "        return 1\n",
    "    else:\n",
    "        return 0"
   ]
  },
  {
   "cell_type": "markdown",
   "metadata": {},
   "source": [
    "#### Tau function:"
   ]
  },
  {
   "cell_type": "code",
   "execution_count": 15,
   "metadata": {},
   "outputs": [],
   "source": [
    "def Tau(data, labels):\n",
    "    tau = 0\n",
    "    for i in range(len(data)):\n",
    "        num = 0\n",
    "        denom = 0\n",
    "        for j in range(len(data)):\n",
    "            if(i != j):\n",
    "                num += Clust(labels[i],labels[j])*Kernel(data[i],data[j])\n",
    "                denom += Kernel(data[i],data[j])\n",
    "        tau += num/denom\n",
    "    tau = (1/len(data))*tau\n",
    "    return tau"
   ]
  },
  {
   "cell_type": "markdown",
   "metadata": {},
   "source": [
    "### a) Compute Tau for the previously obtained clustering"
   ]
  },
  {
   "cell_type": "code",
   "execution_count": 16,
   "metadata": {},
   "outputs": [
    {
     "name": "stdout",
     "output_type": "stream",
     "text": [
      "Tau score for kmeans :0.9255325354956404\n",
      "Tau score for spectral clustering: 0.9994790295553356\n"
     ]
    }
   ],
   "source": [
    "tau_kmeans = Tau(data_num_np,kmeans.labels_)\n",
    "tau_spectr = Tau(data_num_np,spec_clustering.labels_)\n",
    "\n",
    "print(\"Tau score for kmeans :\"+str(tau_kmeans))\n",
    "print(\"Tau score for spectral clustering: \"+str(tau_spectr))"
   ]
  },
  {
   "cell_type": "markdown",
   "metadata": {},
   "source": [
    "#### Compare Tau to Sil and DB"
   ]
  },
  {
   "cell_type": "markdown",
   "metadata": {},
   "source": [
    "Seems Tau is better (with the lower variance), it picks up on spectral clustering being the better clusterer, without needing the actual labels (like NMI) to determine it."
   ]
  },
  {
   "cell_type": "markdown",
   "metadata": {},
   "source": [
    "### b) Disadvantage in using Tau"
   ]
  },
  {
   "cell_type": "markdown",
   "metadata": {},
   "source": [
    "You need to figure out a proper value for sigma. If sigma is too small, the kernel value will tend towards 0 very quickly and the metric will basically only check if the neirest neighbour has the same cluster label and if so return a perfect 1. If the sigma is too large it will charge a penatly for data points having a different cluster label that are actually far enough away for it to be reasonable for them to be part of a different cluster. This also makes it arbitrary, since different choices of sigma can result in different outcomes, and no sigma is objectively the best choice. So, you need some extra information about your data, or a certain patter or clusters you expect to find, to choose a reasonable sigma.\n",
    "\n",
    "This can also be seen as an advantage though, Silhouette and Davies-Bouldin seem to always perform bad on a data set like this, while Tau has the option of being tuned to more easily detect certain cluster patterns."
   ]
  },
  {
   "cell_type": "markdown",
   "metadata": {},
   "source": [
    "### c) Alternative validation index"
   ]
  },
  {
   "cell_type": "markdown",
   "metadata": {},
   "source": [
    "#### Using nearest neighbour"
   ]
  },
  {
   "cell_type": "markdown",
   "metadata": {},
   "source": [
    "My motivation to use nearest neighbour is that for this particular data it makes sense to use nearest neighbour since we have stringlike clusters (clusters that form a line). Nearest neighbour will make it so that it is particularly important that the nearest neighbours, or closest points, are in the same cluster. If the amount of nearest neighbours (k) is relatively low, it should correctly pick up on the line pattern. "
   ]
  },
  {
   "cell_type": "markdown",
   "metadata": {},
   "source": [
    "To use nearest neighbour instead of the gaussian kernel, I make a slight adaptation to the Tau function. \n",
    "\n",
    "At the start I will calculate a nearest neighbour matrix, in which each row represents a data point, and has a 1 in each column if the point corresponding to that column is a closest point (thus \"nearest neighbour\") of the point corresponding to the row.\n",
    "\n",
    "Then I will use this matrix in place of the kernel function."
   ]
  },
  {
   "cell_type": "markdown",
   "metadata": {},
   "source": [
    "#### Tau_NN:"
   ]
  },
  {
   "cell_type": "code",
   "execution_count": 17,
   "metadata": {},
   "outputs": [],
   "source": [
    "from sklearn.neighbors import NearestNeighbors\n",
    "\n",
    "def Tau_NN(data, labels,kN):\n",
    "    nbrs = NearestNeighbors(n_neighbors=kN, algorithm='ball_tree').fit(data_num)\n",
    "    NN = nbrs.kneighbors_graph(data_num).toarray()\n",
    "    tau_NN = 0\n",
    "    for i in range(len(data)):\n",
    "        num = 0\n",
    "        denom = 0\n",
    "        for j in range(len(data)):\n",
    "            if(i != j):\n",
    "                num += Clust(labels[i],labels[j])*NN[i][j]\n",
    "                denom += NN[i][j]\n",
    "        tau_NN += num/denom\n",
    "    tau_NN = (1/len(data))*tau_NN\n",
    "    return tau_NN"
   ]
  },
  {
   "cell_type": "code",
   "execution_count": 18,
   "metadata": {},
   "outputs": [
    {
     "name": "stdout",
     "output_type": "stream",
     "text": [
      "0.9615384615384615\n",
      "1.0\n"
     ]
    }
   ],
   "source": [
    "tau_NN_kmeans = Tau_NN(data_num_np,kmeans.labels_,4)\n",
    "tau_NN_spectr = Tau_NN(data_num_np,spec_clustering.labels_,4)\n",
    "\n",
    "print(tau_NN_kmeans)\n",
    "print(tau_NN_spectr)"
   ]
  },
  {
   "cell_type": "markdown",
   "metadata": {},
   "source": [
    "This indice again indicates that spectral clustering outperformed kmeans clustering. We get a 1.0 for spectral clustering, which makes sense for 4 neighbours. The only way the numerater and denominator can differ is when the cluster labels are different for any of the nearest neighbours. In this example, this is not the case for any point. If we were to increase the amount of neighbours we could see something else:"
   ]
  },
  {
   "cell_type": "code",
   "execution_count": 19,
   "metadata": {},
   "outputs": [
    {
     "name": "stdout",
     "output_type": "stream",
     "text": [
      "0.8589743589743591\n",
      "0.7479757085020226\n"
     ]
    }
   ],
   "source": [
    "tau_NN_kmeans = Tau_NN(data_num_np,kmeans.labels_,20)\n",
    "tau_NN_spectr = Tau_NN(data_num_np,spec_clustering.labels_,20)\n",
    "\n",
    "print(tau_NN_kmeans)\n",
    "print(tau_NN_spectr)"
   ]
  },
  {
   "cell_type": "markdown",
   "metadata": {},
   "source": [
    "We notice that for 20 nearest neighbours, kmeans actually outperforms spectral clustering. This is because if the algorithm starts looking at that many neighbours, some of the neighbours will come from a different spiralline, so it will lose track of the spiral pattern. We can check where the tipping point lies:"
   ]
  },
  {
   "cell_type": "code",
   "execution_count": 20,
   "metadata": {},
   "outputs": [
    {
     "name": "stdout",
     "output_type": "stream",
     "text": [
      "2\n",
      "0.9647435897435898\n",
      "1.0\n",
      "---------------\n",
      "3\n",
      "0.9711538461538461\n",
      "1.0\n",
      "---------------\n",
      "4\n",
      "0.9615384615384615\n",
      "1.0\n",
      "---------------\n",
      "5\n",
      "0.9559294871794871\n",
      "0.999198717948718\n",
      "---------------\n",
      "6\n",
      "0.9480769230769233\n",
      "0.998076923076923\n",
      "---------------\n",
      "7\n",
      "0.94017094017094\n",
      "0.9951923076923077\n",
      "---------------\n",
      "8\n",
      "0.9313186813186812\n",
      "0.9917582417582418\n",
      "---------------\n",
      "9\n",
      "0.921073717948718\n",
      "0.9879807692307692\n",
      "---------------\n",
      "10\n",
      "0.9116809116809111\n",
      "0.9707977207977205\n",
      "---------------\n",
      "11\n",
      "0.9028846153846157\n",
      "0.9532051282051288\n",
      "---------------\n",
      "12\n",
      "0.8974358974358969\n",
      "0.9286130536130529\n",
      "---------------\n",
      "13\n",
      "0.8915598290598292\n",
      "0.9043803418803418\n",
      "---------------\n",
      "14\n",
      "0.8836291913214984\n",
      "0.879930966469428\n",
      "---------------\n"
     ]
    }
   ],
   "source": [
    "tau_NN_kmeans = 0\n",
    "tau_NN_spectr = 1\n",
    "i=2\n",
    "while tau_NN_kmeans < tau_NN_spectr:\n",
    "    print(i)\n",
    "    tau_NN_kmeans = Tau_NN(data_num_np,kmeans.labels_,i)\n",
    "    tau_NN_spectr = Tau_NN(data_num_np,spec_clustering.labels_,i)\n",
    "    print(tau_NN_kmeans)\n",
    "    print(tau_NN_spectr)\n",
    "    print(\"---------------\")\n",
    "    i += 1\n"
   ]
  },
  {
   "cell_type": "markdown",
   "metadata": {},
   "source": [
    "It seems that starting from 14 nearest neighbours kmeans seemingly outperforms spectral clustering. Kmeans of course also has some randomness involved so results may differ. We could say that if the clusters have a more stringlike shape, we probably want to keep the amount of neighbours low, and if they have a more ball or cloud shape we would want a larger number of neighbours.\n",
    "\n",
    "This means that this method has a similar drawback as the guassian kernel, in that we have a parameter that is not objectively defined, and that we have to set by hand ourselves."
   ]
  },
  {
   "cell_type": "markdown",
   "metadata": {},
   "source": [
    "## Exercise 3"
   ]
  },
  {
   "cell_type": "markdown",
   "metadata": {},
   "source": [
    "$δ = P(a,b) - P(a) P(b)$ <br>\n",
    "$γ = P(a,b)/(P(a) P(b))$ <br>\n",
    "\n",
    "fr(x) = amount of rows containing x <br>\n",
    "\n",
    "Positive association: $P(X,C) > P(X)P(C), (δ > 0, γ > 1)$ "
   ]
  },
  {
   "cell_type": "markdown",
   "metadata": {},
   "source": [
    "### a) Calculate leverage or lift for all rules, prune out rules that do not express positive statistical dependence"
   ]
  },
  {
   "cell_type": "markdown",
   "metadata": {},
   "source": [
    "In total there are 1000 patients, so $P(x) = fr(x)/1000$ <br>\n",
    "30% of patients have heart disease, so $P(hd) = 0.3$ and $P(\\neg hd) = 0.7$ .<br>\n",
    "(hd=heart disease)"
   ]
  },
  {
   "cell_type": "code",
   "execution_count": 21,
   "metadata": {},
   "outputs": [],
   "source": [
    "def leverage(frX,frXC,pC):\n",
    "    return (frXC/1000 - (frX/1000 * pC))\n",
    "\n",
    "def lift(frX,frXC,pC):\n",
    "    return((frXC/1000)/(frX/1000* pC))"
   ]
  },
  {
   "cell_type": "markdown",
   "metadata": {},
   "source": [
    "Put values of table 1 here for easy acces:"
   ]
  },
  {
   "cell_type": "code",
   "execution_count": 22,
   "metadata": {},
   "outputs": [],
   "source": [
    "fr = [[300,125,0.3],[500,150,0.3],[500,400,0.7],[342,240,0.7],[2,2,0.7],[500,352,0.7],[260,100,0.3],[120,32,0.3],[240,100,0.3],[80,32,0.3],[200,100,0.3],[251,203,0.7]]"
   ]
  },
  {
   "cell_type": "code",
   "execution_count": 23,
   "metadata": {},
   "outputs": [
    {
     "name": "stdout",
     "output_type": "stream",
     "text": [
      "rule 1:\n",
      "leverage: 0.035\n",
      "lift: 1.3888888888888888\n",
      "---------\n",
      "rule 2:\n",
      "leverage: 0.0\n",
      "lift: 1.0\n",
      "No positive statistical dependence!\n",
      "---------\n",
      "rule 3:\n",
      "leverage: 0.050000000000000044\n",
      "lift: 1.142857142857143\n",
      "---------\n",
      "rule 4:\n",
      "leverage: 0.0005999999999999894\n",
      "lift: 1.0025062656641603\n",
      "---------\n",
      "rule 5:\n",
      "leverage: 0.0006000000000000001\n",
      "lift: 1.4285714285714286\n",
      "---------\n",
      "rule 6:\n",
      "leverage: 0.0020000000000000018\n",
      "lift: 1.0057142857142858\n",
      "---------\n",
      "rule 7:\n",
      "leverage: 0.022000000000000006\n",
      "lift: 1.2820512820512822\n",
      "---------\n",
      "rule 8:\n",
      "leverage: -0.003999999999999997\n",
      "lift: 0.888888888888889\n",
      "No positive statistical dependence!\n",
      "---------\n",
      "rule 9:\n",
      "leverage: 0.02800000000000001\n",
      "lift: 1.388888888888889\n",
      "---------\n",
      "rule 10:\n",
      "leverage: 0.008\n",
      "lift: 1.3333333333333333\n",
      "---------\n",
      "rule 11:\n",
      "leverage: 0.04000000000000001\n",
      "lift: 1.6666666666666667\n",
      "---------\n",
      "rule 12:\n",
      "leverage: 0.02730000000000002\n",
      "lift: 1.155378486055777\n",
      "---------\n"
     ]
    }
   ],
   "source": [
    "for i in range(12):\n",
    "    print(\"rule \"+str(i+1)+\":\")\n",
    "    print(\"leverage: \"+str(leverage(fr[i][0],fr[i][1],fr[i][2])))\n",
    "    print(\"lift: \"+str(lift(fr[i][0],fr[i][1],fr[i][2])))\n",
    "    if(leverage(fr[i][0],fr[i][1],fr[i][2]) <= 0):\n",
    "        print(\"No positive statistical dependence!\")\n",
    "    print(\"---------\")"
   ]
  },
  {
   "cell_type": "markdown",
   "metadata": {},
   "source": [
    "Rule 2 shows statistical independence, rule 8 shows negatice statistical dependence.\n",
    "__Prune rule 2 and 8.__"
   ]
  },
  {
   "cell_type": "markdown",
   "metadata": {},
   "source": [
    "### b) Evaluate MI of remaining rules and prune out rules where n*MI < 1.5"
   ]
  },
  {
   "cell_type": "code",
   "execution_count": 24,
   "metadata": {},
   "outputs": [],
   "source": [
    "def M_I(frC,frCD,pD):\n",
    "    pC = frC/1000\n",
    "    pCD = frCD/1000\n",
    "    Ci = [pC,1-pC]\n",
    "    Dj = [pD,1-pD]\n",
    "    CDij = [[pCD, pD-pCD],[pC-pCD, 1-pC-pD+pCD]]\n",
    "   \n",
    "    return np.log2(((CDij[0][0]**CDij[0][0])*(CDij[1][0]**CDij[1][0])*(CDij[0][1]**CDij[0][1])*(CDij[1][1]**CDij[1][1]))/((Ci[0]**Ci[0])*(Ci[1]**Ci[1])*(Dj[0]**Dj[0])*(Dj[1]**Dj[1])))"
   ]
  },
  {
   "cell_type": "code",
   "execution_count": 25,
   "metadata": {},
   "outputs": [
    {
     "name": "stdout",
     "output_type": "stream",
     "text": [
      "rule 1:\n",
      "MI: 0.01943558511395403\n",
      "---------\n",
      "rule 3:\n",
      "MI: 0.03485155455967688\n",
      "---------\n",
      "rule 4:\n",
      "MI: 5.498059238843441e-06\n",
      "Mutual Information too low!\n",
      "---------\n",
      "rule 5:\n",
      "MI: 0.001030384947208025\n",
      "Mutual Information too low!\n",
      "---------\n",
      "rule 6:\n",
      "MI: 5.4961040800631995e-05\n",
      "Mutual Information too low!\n",
      "---------\n",
      "rule 7:\n",
      "MI: 0.008398761583067321\n",
      "---------\n",
      "rule 9:\n",
      "MI: 0.014201862747021876\n",
      "---------\n",
      "rule 10:\n",
      "MI: 0.002846664406839561\n",
      "---------\n",
      "rule 11:\n",
      "MI: 0.03226839966338602\n",
      "---------\n",
      "rule 12:\n",
      "MI: 0.01446150435508552\n",
      "---------\n"
     ]
    }
   ],
   "source": [
    "for i in range(12):\n",
    "    if((i+1) != 2 and (i+1) != 8):\n",
    "        print(\"rule \"+str(i+1)+\":\")\n",
    "        print(\"MI: \"+str(M_I(fr[i][0],fr[i][1],fr[i][2])))\n",
    "        if(M_I(fr[i][0],fr[i][1],fr[i][2]) < 0.0015):\n",
    "            print(\"Mutual Information too low!\")\n",
    "        print(\"---------\")"
   ]
  },
  {
   "cell_type": "markdown",
   "metadata": {},
   "source": [
    "##### We end up pruning 4,5 and 6 in this step and are left with 1,3,7,9,10,11 and 12"
   ]
  },
  {
   "cell_type": "markdown",
   "metadata": {},
   "source": [
    "(this next cell is not intended for grading, however, I originally used this function to calculate the MI, based on the slides, but it wasn't working. I can't figure out why that is. Could I get feedback on this if possible?)"
   ]
  },
  {
   "cell_type": "code",
   "execution_count": 26,
   "metadata": {},
   "outputs": [],
   "source": [
    "#THE WORKING SOLUTION IS ABOVE, THIS IS JUST OUT OF CURIOSITY!!!!\n",
    "def Mutual_Information(frC,frCD, pD):\n",
    "    pC = frC/1000\n",
    "    pCD = frCD/1000\n",
    "    Ci = [pC,1-pC]\n",
    "    Dj = [pD,1-pD]\n",
    "    CDij = [[pCD, pD-pCD],[pC-pCD, 1-pC-pD+pCD]]\n",
    "    print(Ci)\n",
    "    print(Dj)\n",
    "    \n",
    "    MI = 0\n",
    "    for i in range (2):\n",
    "        for j in range(2):\n",
    "            MI += CDij[i][j]*np.log(CDij[i][j]/(Ci[i]*Dj[j]))\n",
    "    \n",
    "    \n",
    "    return MI"
   ]
  },
  {
   "cell_type": "markdown",
   "metadata": {},
   "source": [
    "### c) Evaluate overfitting"
   ]
  },
  {
   "cell_type": "code",
   "execution_count": 27,
   "metadata": {},
   "outputs": [],
   "source": [
    "def Conditional_Mutual_Information(pX,pXQC,pXQnC,pXnQC,pXnQnC,pXQ,pXnQ,pXC,pXnC):\n",
    "    num = pX**pX * pXQC**pXQC * pXQnC**pXQnC * pXnQC**pXnQC * pXnQnC**pXnQnC\n",
    "    denom = pXQ**pXQ * pXnQ**pXnQ * pXC**pXC * pXnC**pXnC\n",
    "    return np.log2(num/denom)"
   ]
  },
  {
   "cell_type": "markdown",
   "metadata": {},
   "source": [
    "Rule 1 doesn't have a super group, except for just patients -> heart disease, so it passes. <br>\n",
    "Rule 3 doesn't have a super group, except for just patients -> heart disease, so it passes. <br>"
   ]
  },
  {
   "cell_type": "markdown",
   "metadata": {},
   "source": [
    "Rule 7:<br>\n",
    "$P(hd | female,stress) = P(hd,female,stress)/P(female,stress) = 0.10/0.260 = 0.385$<br>\n",
    "Rule 7 has 2 super groups, females and stress.<br>\n",
    "Stress implying heart disease was rule 2, so we can directly compare: <br>\n",
    "$P(hd | stress) = P(hd,stress)/P(stress) = 0.150/0.5 = 0.3$<br>\n",
    "Female implying heart disease can be derived from rule 6:<br>\n",
    "$P(female,hd) = P(female) - P(female,\\neg hd) = 0.148$<br>\n",
    "$P(hd | female) = P(hd,female)/P(female) = 0.148/0.5 = 0.296$<br>\n",
    "$0.3 < 0.385$ & $0.296 < 0.385$, so there is no overfitting. It is interesting to note that, while stress and being female on its own shows almost no relation to heart disease, both around 0.3 which is the average, these factors combined increase the risk of heart disease by a considerable margin.<br>"
   ]
  },
  {
   "cell_type": "markdown",
   "metadata": {},
   "source": [
    "MIc1:<br>\n",
    "X = female,<br>\n",
    "Q = stress,<br>\n",
    "C = hd<br>"
   ]
  },
  {
   "cell_type": "code",
   "execution_count": 28,
   "metadata": {},
   "outputs": [
    {
     "name": "stdout",
     "output_type": "stream",
     "text": [
      "MIhd give female is: 0.0149888544567157\n"
     ]
    }
   ],
   "source": [
    "pX = 0.5 #directly from assignment\n",
    "pXQC = 0.1 #directly from table\n",
    "pXQnC = 0.16 #= 0.26 - 0.1 = female and stress - female, stress and hd\n",
    "pXnQC = 0.048 #= 0.148 - 0.1  = female and hd - female, stress and hd\n",
    "pXnQnC = 0.192 #= 0.352 - 0.16  = female and no hd - female, stress and no hd\n",
    "pXQ = 0.26 #directly from table\n",
    "pXnQ = 0.24 #= 0.5 - 0.26  = female - female and stress\n",
    "pXC = 0.148 #see above\n",
    "pXnC = 0.352 #directly from table\n",
    "\n",
    "CMI_7_1 = Conditional_Mutual_Information(pX,pXQC,pXQnC,pXnQC,pXnQnC,pXQ,pXnQ,pXC,pXnC)\n",
    "print(\"MIhd give female is: \"+str(CMI_7_1))\n",
    "if(CMI_7_1 < 0.0005):\n",
    "    print(\"Too low, prune the rule!\")"
   ]
  },
  {
   "cell_type": "markdown",
   "metadata": {},
   "source": [
    "MIc2:<br>\n",
    "X = stress,<br>\n",
    "Q = female,<br>\n",
    "C = hd<br>"
   ]
  },
  {
   "cell_type": "code",
   "execution_count": 29,
   "metadata": {},
   "outputs": [
    {
     "name": "stdout",
     "output_type": "stream",
     "text": [
      "MIhd give stress is: 0.0135355645129705\n"
     ]
    }
   ],
   "source": [
    "pX = 0.5 #directly from table\n",
    "pXQC = 0.1 #directly from table\n",
    "pXQnC = 0.16 #= 0.26 - 0.1 = female and stress - female, stress and hd\n",
    "pXnQC = 0.05 #= 0.150 -  0.1 = stress and hd - female, stress and hd\n",
    "pXnQnC = 0.190 #= 0.350 - 0.16  = stress and no hd - female, stress and no hd\n",
    "pXQ = 0.26 #directly from table\n",
    "pXnQ = 0.24 #= 0.5 - 0.26  = stress - female and stress\n",
    "pXC =  0.15 #directly from table\n",
    "pXnC =  0.350 #see above\n",
    "\n",
    "CMI_7_2 = Conditional_Mutual_Information(pX,pXQC,pXQnC,pXnQC,pXnQnC,pXQ,pXnQ,pXC,pXnC)\n",
    "print(\"MIhd give stress is: \"+str(CMI_7_2))\n",
    "if(CMI_7_2 < 0.0005):\n",
    "    print(\"Too low, prune the rule!\")"
   ]
  },
  {
   "cell_type": "markdown",
   "metadata": {},
   "source": [
    "Rule 9:<br>\n",
    "$P(hd | smoking,coffee) = P(hd,smoking,coffee)/P(smoking,coffee) = 0.100/0.240 = 0.417$<br>\n",
    "Rule 9 has 2 super groups, smoking and coffee.<br>\n",
    "Smoking implying heart disease was rule 1, so we can directly compare: <br>\n",
    "$P(hd | smoking) = P(hd,smoking)/P(smoking) = 0.125/0.300 = 0.417$<br>\n",
    "Coffee implying heart disease can be derived from rule 4:<br>\n",
    "$P(coffee,hd) = P(coffee) - P(coffee,no hd) = 0.102$<br>\n",
    "$P(hd | coffee) = P(hd,coffee)/P(coffee) = 0.102/0.342 = 0.298$<br>\n",
    "$0.298 < 0.417$ so coffee is fine, however, $0.417 = 0.417$, indicating that the probability of getting heart disease when smoking compared to the probability of getting heart disease when smoking and drinking coffee is the same, implying that the coffee part is irrelevant. __So we prune rule 9.__<br>"
   ]
  },
  {
   "cell_type": "markdown",
   "metadata": {},
   "source": [
    "Rule 10:<br>\n",
    "$P(hd | smoking,sports) = P(hd,smoking,sports)/P(smoking,sports) = 0.032/0.080 = 0.400$<br>\n",
    "Rule 10 has 2 super groups, smoking and sports.<br>\n",
    "Smoking we know from Rule 9, it $= 0.417$<br>\n",
    "Sports implying heart disease can be derived from rule 3:<br>\n",
    "$P(sports,hd) = P(sports) - P(sports,no hd) = 0.100$<br>\n",
    "$P(hd | sports) = P(hd,sports)/P(sports) = 0.100/0.500 = 0.200$<br>\n",
    "0.200 < 0.400 so Sports is fine, however, 0.417 > 0.400, indicating that smoking alone actually contributes more to heart disease than smoking and sports. __So we prune the rule 10.__<br>"
   ]
  },
  {
   "cell_type": "markdown",
   "metadata": {},
   "source": [
    "Rule 11:<br>\n",
    "$P(hd | smoking,stress) = P(hd,smoking,stress)/P(smoking,stress) = 0.100/0.200 = 0.500$<br>\n",
    "Rule 11 has 2 super groups, smoking and stress.<br>\n",
    "Smoking we know from Rule 9, it $= 0.417$<br>\n",
    "Stress we know from Rule 7, it $= 0.3$<br>\n",
    "$0.417 < 0.500$ & $0.3 <0.500$, so there is no overfitting. Seems like smoking and stress is a bad combination for heart disease!"
   ]
  },
  {
   "cell_type": "markdown",
   "metadata": {},
   "source": [
    "(For the remaining MI calculations I wont write down my reasoning anymore since it takes too much time and is analogous to Rule 7.)"
   ]
  },
  {
   "cell_type": "markdown",
   "metadata": {},
   "source": [
    "MIc1:<br>\n",
    "X = smoking,<br>\n",
    "Q = stress,<br>\n",
    "C = hd<br>"
   ]
  },
  {
   "cell_type": "code",
   "execution_count": 30,
   "metadata": {},
   "outputs": [
    {
     "name": "stdout",
     "output_type": "stream",
     "text": [
      "MIhd given smoking is: 0.012832814549432256\n"
     ]
    }
   ],
   "source": [
    "pX = 0.3\n",
    "pXQC = 0.1\n",
    "pXQnC = 0.1 \n",
    "pXnQC = 0.025\n",
    "pXnQnC = 0.075\n",
    "pXQ = 0.2\n",
    "pXnQ = 0.1\n",
    "pXC = 0.125\n",
    "pXnC = 0.175\n",
    "\n",
    "CMI_11_1 = Conditional_Mutual_Information(pX,pXQC,pXQnC,pXnQC,pXnQnC,pXQ,pXnQ,pXC,pXnC)\n",
    "print(\"MIhd given smoking is: \"+str(CMI_11_1))\n",
    "if(CMI_11_1 < 0.0005):\n",
    "    print(\"Too low, prune the rule!\")"
   ]
  },
  {
   "cell_type": "markdown",
   "metadata": {},
   "source": [
    "MIc2:<br>\n",
    "X = stress,<br>\n",
    "Q = smoking,<br>\n",
    "C = hd<br>"
   ]
  },
  {
   "cell_type": "code",
   "execution_count": 31,
   "metadata": {},
   "outputs": [
    {
     "name": "stdout",
     "output_type": "stream",
     "text": [
      "MIhd given stress is: 0.04563872312084026\n"
     ]
    }
   ],
   "source": [
    "pX = 0.5\n",
    "pXQC = 0.1\n",
    "pXQnC = 0.1\n",
    "pXnQC = 0.05\n",
    "pXnQnC = 0.25\n",
    "pXQ = 0.2\n",
    "pXnQ = 0.3\n",
    "pXC = 0.15\n",
    "pXnC = 0.35\n",
    "\n",
    "CMI_11_2 = Conditional_Mutual_Information(pX,pXQC,pXQnC,pXnQC,pXnQnC,pXQ,pXnQ,pXC,pXnC)\n",
    "print(\"MIhd given stress is: \"+str(CMI_11_2))\n",
    "if(CMI_11_2 < 0.0005):\n",
    "    print(\"Too low, prune the rule!\")"
   ]
  },
  {
   "cell_type": "markdown",
   "metadata": {},
   "source": [
    "Rule 12:<br>\n",
    "$P(no hd | female,sports) = P(no hd,female,sports)/P(female,sports) = 0.203/0.251 = 0.809$<br>\n",
    "Rule 11 has 2 super groups, female and sports.<br>\n",
    "Sports implying no heart disease is rule 3 so we can calculate directly:<br>\n",
    "$P(no hd | sports) = P(no hd, sports)/P(sports) = 0.4/0.5 = 0.8$<br>\n",
    "Female implying no heart disease is rule 6 so we can calculate directly:<br>\n",
    "$P(no hd | female) = P(no hd, female)/P(female) = 0.352/0.5 = 0.704$<br>\n",
    "$0.8 < 0.809$ & $0.704 < 0.809$, so there is no overfitting."
   ]
  },
  {
   "cell_type": "markdown",
   "metadata": {},
   "source": [
    "MIc1:<br>\n",
    "X = female,<br>\n",
    "Q = sports,<br>\n",
    "C = no hd<br>"
   ]
  },
  {
   "cell_type": "code",
   "execution_count": 32,
   "metadata": {},
   "outputs": [
    {
     "name": "stdout",
     "output_type": "stream",
     "text": [
      "MIhd given female is: 0.019458321080575637\n"
     ]
    }
   ],
   "source": [
    "pX = 0.5\n",
    "pXQC = 0.203\n",
    "pXQnC = 0.048\n",
    "pXnQC = 0.149\n",
    "pXnQnC = 0.1\n",
    "pXQ = 0.251\n",
    "pXnQ = 0.249\n",
    "pXC = 0.352\n",
    "pXnC = 0.148\n",
    "\n",
    "CMI_12_1 = Conditional_Mutual_Information(pX,pXQC,pXQnC,pXnQC,pXnQnC,pXQ,pXnQ,pXC,pXnC)\n",
    "print(\"MIhd given female is: \"+str(CMI_12_1))\n",
    "if(CMI_12_1 < 0.0005):\n",
    "    print(\"Too low, prune the rule!\")"
   ]
  },
  {
   "cell_type": "markdown",
   "metadata": {},
   "source": [
    "MIc2:<br>\n",
    "X = sports,<br>\n",
    "Q = female,<br>\n",
    "C = no hd<br>"
   ]
  },
  {
   "cell_type": "code",
   "execution_count": 33,
   "metadata": {},
   "outputs": [
    {
     "name": "stdout",
     "output_type": "stream",
     "text": [
      "MIhd given female is: 0.00017459931653478918\n",
      "Too low, prune the rule!\n"
     ]
    }
   ],
   "source": [
    "pX = 0.5\n",
    "pXQC = 0.203\n",
    "pXQnC = 0.048\n",
    "pXnQC = 0.197\n",
    "pXnQnC = 0.052\n",
    "pXQ = 0.251\n",
    "pXnQ = 0.249\n",
    "pXC = 0.4\n",
    "pXnC = 0.1\n",
    "\n",
    "CMI_12_1 = Conditional_Mutual_Information(pX,pXQC,pXQnC,pXnQC,pXnQnC,pXQ,pXnQ,pXC,pXnC)\n",
    "print(\"MIhd given female is: \"+str(CMI_12_1))\n",
    "if(CMI_12_1 < 0.0005):\n",
    "    print(\"Too low, prune the rule!\")"
   ]
  },
  {
   "cell_type": "markdown",
   "metadata": {},
   "source": [
    "##### We end up pruning 9, 10 and 12 in this step, and are left with 1,3, 7 and 11"
   ]
  },
  {
   "cell_type": "markdown",
   "metadata": {},
   "source": [
    "### d) Judge the rule:"
   ]
  },
  {
   "cell_type": "markdown",
   "metadata": {},
   "source": [
    "rule: $tea -> \\neg hd$<br>\n",
    "$fr(tea) = 390$, $fr(tea, \\neg hd) = 283$ and $fr(tea,smoking)=40$<br>\n",
    "assume conditional independence given smoking.\n",
    "\n",
    "$fr(tea, hd) = fr(tea) - fr(tea, \\neg hd) = 390 - 283 = 107\n",
    "\n",
    "$P(hd | smoking) = P(hd,smoking)/P(smoking) = 0.125/0.3 = 0.417$<br>\n",
    "$P(hd, \\neg smoking) = P(hd) - P(hd,smoking) = 0.300 - 0.125 = 0.175$<br>\n",
    "$P(hd | \\neg smoking) = P(hd, \\neg smoking)/P(\\neg smoking) = 0.175/0.7 = 0.25$<br>\n",
    "\n",
    "tea is independent of heart disease given smoking,<br>\n",
    "$P(hd | smoking) = 0.417$<br>\n",
    "$P(hd | \\neg smoking) = 0.25$<br>\n",
    "\n",
    "$fr(tea,smoking) = 40$<br>\n",
    "$fr(tea,\\neg smoking)= fr(tea) - fr(tea,smoking) = 390 - 40 = 350$<br>\n",
    "\n",
    "Expectation:<br>\n",
    "$fr(tea,hd) = fr(tea,hd,smoking) + fr(tea,hd,\\neg smoking)$<br>\n",
    "            $= fr(tea,smoking)*P(hd|smoking) + fr(tea, \\neg smoking)*P(hd|\\neg smoking)\n",
    "            $= 40*0.417 + 350*0.25\n",
    "            $= 104.18\n",
    "\n",
    "104.18 and 107 are very close, so it's just a side product!"
   ]
  },
  {
   "cell_type": "markdown",
   "metadata": {},
   "source": [
    "## Exercise 4"
   ]
  },
  {
   "cell_type": "markdown",
   "metadata": {},
   "source": [
    "### a) 1 - Convert words into integer codes"
   ]
  },
  {
   "cell_type": "code",
   "execution_count": 34,
   "metadata": {},
   "outputs": [
    {
     "name": "stdout",
     "output_type": "stream",
     "text": [
      "amount of elements: 44\n",
      "{'largeBirthRate': 1, 'smallGDP': 2, 'smallHealthExpenses': 3, 'lackingSanitation': 4, 'dirtyWater': 5, 'leastInternetUsers': 6, 'womenWorkLeast': 7, 'shortestLife': 8, 'leastLiterate': 9, 'leastMobiles': 10, 'largestInfantMortality': 11, 'leastPhysicians': 12, 'mostRural': 13, 'leastTelephoneLines': 14, 'mostCorrupted': 15, 'smallBirthRate': 16, 'properSanitation': 17, 'mostLiterate': 18, 'exColony': 19, 'young': 20, 'exHostFr': 21, 'oil': 22, 'largeGDP': 23, 'largeHealthExpenses': 24, 'cleanWater': 25, 'mostInternetUsers': 26, 'longestLife': 27, 'smallestInfantMortality': 28, 'mostPhysicians': 29, 'mostUrban': 30, 'mostTelephoneLines': 31, 'exHostPo': 32, 'compulsoryEducation<9y': 33, 'mostMobiles': 34, 'exHostBr': 35, 'exHostSp': 36, 'leastCorrupted': 37, 'womenWorkMost': 38, 'compulsoryEducation<7y': 39, 'exHostBe': 40, 'exHostIt': 41, 'mallHealthExpenses': 42, 'exHostNe': 43, 'exHostGe': 44}\n"
     ]
    }
   ],
   "source": [
    "import csv\n",
    "\n",
    "with open('worlddiscr.names', 'r') as worlddiscr:\n",
    "    with open('worlddiscr_int.dat', 'w') as worddiscr_int:\n",
    "        word_2_int = {\n",
    "        }\n",
    "        i = 1\n",
    "        r = csv.reader(worlddiscr)\n",
    "        for row in r:\n",
    "            for element in row:\n",
    "                if(row.index(element) != 0):\n",
    "                    if element in word_2_int:\n",
    "                        worddiscr_int.write(str(word_2_int.get(element))+\" \")\n",
    "                    else:\n",
    "                        word_2_int[element] = i\n",
    "                        worddiscr_int.write(str(i)+\" \")\n",
    "                        i += 1        \n",
    "            worddiscr_int.write('\\n')\n",
    "            \n",
    "print(\"amount of elements: \"+str(i-1))\n",
    "print(word_2_int)"
   ]
  },
  {
   "cell_type": "markdown",
   "metadata": {},
   "source": [
    "### a) 2 - Summerize main message of best rules."
   ]
  },
  {
   "cell_type": "markdown",
   "metadata": {},
   "source": [
    "I ran ./kingfisher -i  worlddiscr_int.dat -k44 -M-60 -t3.\n",
    "\n",
    "k 44 because there are 44 elements, M-60 because trial and error, -60 gave me 14 rules, which seemed nice and t3 because I'm looking for positive and negative dependencies.\n",
    "\n",
    "Here are the results:"
   ]
  },
  {
   "cell_type": "markdown",
   "metadata": {},
   "source": [
    "Top 5 rules:<br>\n",
    "$leastInternetUsers,largestInfantMortality -> leastTelephoneLines$<br>\n",
    "$largeGDP -> largeHealthExpenses$<br>\n",
    "$leastTelephoneLines -> largestInfantMortality$<br>\n",
    "$smallHealthExpenses, largestInfantMortality -> smallGDP$<br>\n",
    "$smallGDP, largestInfantMortality -> smallHealthExpenses$<br>\n",
    "\n",
    "I interpret these rules as poorer countries (smallGDP) having less infrastructure(telephone lines, internet), higher infant mortality and less health care expenses, while richer countries have higher health care expenses.\n",
    "\n",
    "To find the next rules I used M-10:\n",
    "\n",
    "$exColony -> \\neg mostLiterate$<br>\n",
    "nothing about corruption<br>\n",
    "$compulsoryEducation<7y -> compulsoryEducation<9y$<br>\n",
    "nothing about oil."
   ]
  },
  {
   "cell_type": "markdown",
   "metadata": {},
   "source": [
    "## Exercise 5"
   ]
  },
  {
   "cell_type": "markdown",
   "metadata": {},
   "source": [
    "#### a) Can you find all positive statistical associations, if you construct rules only from these sets (i.e., without searching anything else from data)? Consider separately maximal, closed and free sets and different minfrs and justify your answer (give proofs or counter-examples)!"
   ]
  },
  {
   "cell_type": "markdown",
   "metadata": {},
   "source": [
    "#### Maximal"
   ]
  },
  {
   "cell_type": "markdown",
   "metadata": {},
   "source": [
    "No, counter-example:\n",
    "Take a set of 100 elements.  $fr(C)=80$, fr($\\neg C)=20$,$fr(X)=10$,$fr(X,\\neg C)=10$.<br>\n",
    "if $minfr = 0.2$, then X will not be in the maximal set because $P(X)=10/100=0.1$ which is smaller than the $minfr$.<br>\n",
    "However, $X$ and $\\neg C$ clearly have a positive statistical association:<br>\n",
    "$P(X,\\neg C) > P(X)*P(\\neg C)$<br>\n",
    "$0.1 > 0.1*0.2$<br>\n",
    "\n",
    "This positive statistical association will not be picked up by only looking at the maximal sets."
   ]
  },
  {
   "cell_type": "markdown",
   "metadata": {},
   "source": [
    "#### Closed"
   ]
  },
  {
   "cell_type": "markdown",
   "metadata": {},
   "source": [
    "Yes, we can find all positive statistical associations. Proof:<br>\n",
    "If we only have closed sets we are missing sets that have less events but the same frequency: e.g. (A,B) is not closed if:<br> $fr(A,B) = fr(A,B,C)$<br>\n",
    "\n",
    "Let's assume that one of the missing sets has a positive statistical association e.g.<br>\n",
    "$P(A,B=b) > P(A)*P(B=b)$<br>\n",
    "$<=> P(A,B=b,C) > P(A)*P(B=b)$    *(definition of closed sets)*<br>\n",
    "$<=> P(A,B=b,C) > P(A,C)*P(B=b)$    *($P(A,C)$ has to be smaller than $P(A)$, (A,C) can not occur without at least (A) occuring.)*<br>\n",
    "This is again the equation for positive statistical associations. This shows our closed set also has to have a positive statistical association if one of it's super sets has it, so we can find all of them."
   ]
  },
  {
   "cell_type": "markdown",
   "metadata": {},
   "source": [
    "#### Free"
   ]
  },
  {
   "cell_type": "markdown",
   "metadata": {},
   "source": [
    "No, counter-example:<br>\n",
    "If we only have free sets we are missing sets that have more events but the same frequency: e.g. (A,B,C) is not free if:<br> $fr(A,B) = fr(A,B,C)$<br>\n",
    "\n",
    "I will show that (A,B,C) can be a positive statistical association, while (A,B) is not one, so it won't be found using only free sets.<br>\n",
    "\n",
    "$P(A,B=b,C=c)=P(A,B=b)=0.5$<br>\n",
    "$P(A)=0.8$<br>\n",
    "$P(B=b)=0.7$<br>\n",
    "$P(C=c)=0.7$<br>\n",
    "\n",
    "$P(A,B,C) > P(A)*P(B=b)*P(C=c)$<br>\n",
    "$0.5 > 0.392$<br>\n",
    "equation holds, so (A,B,C) has a positive statistical association.<br>\n",
    "\n",
    "\n",
    "$P(A,B,C) > P(A)*P(B=b)$<br>\n",
    "$0.5 > 0.56$<br>\n",
    "equation doesn't hold, so (A,B) does not have a positive statistical association.<br>\n",
    "\n",
    "The positive statistical association of (A,B,C) gets lost when we only use free sets, so we  are not guaranteed to find all positive statistical association."
   ]
  },
  {
   "cell_type": "markdown",
   "metadata": {},
   "source": [
    "#### b) Can you detect overfitted (over-specialized or redundant) rules, if you are given only maximal, closed or free sets? Justify your answer!"
   ]
  },
  {
   "cell_type": "markdown",
   "metadata": {},
   "source": [
    "#### Maximal"
   ]
  },
  {
   "cell_type": "markdown",
   "metadata": {},
   "source": [
    "No, if all $(wodka)$ has a subset above the minimum frequency e.g. $(wodka, cola)$, it is not a maximal set. Now if we only look at maximal sets and see $(wodka,cola)->hangover$, we can not check if $(wodka)->hangover$ to see if $(wodka,cola)$ is over-specialized."
   ]
  },
  {
   "cell_type": "markdown",
   "metadata": {},
   "source": [
    "#### Closed"
   ]
  },
  {
   "cell_type": "markdown",
   "metadata": {},
   "source": [
    "No, because closed sets do not include more general sets if they have the same probability. \n",
    "\n",
    "counter example:\n",
    "if $P(A,B)$ = $P(A,B,C)$, set $(A,B)$ is not a closed set. <br>\n",
    "If we now look at a rule: $(A,B,C) -> D$<br>\n",
    "To check for overfitting, we would need to look at $(A,B) -> D$,<br>\n",
    "However, $(A,B)$ is not a closed set, so we can not check."
   ]
  },
  {
   "cell_type": "markdown",
   "metadata": {},
   "source": [
    "#### Free"
   ]
  },
  {
   "cell_type": "markdown",
   "metadata": {},
   "source": [
    "Yes, \n",
    "the only sets we are leaving out when we only look at free sets are the more specialized sets anyway.\n",
    "If a rule that overfits includes a free set, we know all the subsets of that free set also overfit."
   ]
  },
  {
   "cell_type": "code",
   "execution_count": null,
   "metadata": {},
   "outputs": [],
   "source": []
  }
 ],
 "metadata": {
  "kernelspec": {
   "display_name": "Python 3",
   "language": "python",
   "name": "python3"
  },
  "language_info": {
   "codemirror_mode": {
    "name": "ipython",
    "version": 3
   },
   "file_extension": ".py",
   "mimetype": "text/x-python",
   "name": "python",
   "nbconvert_exporter": "python",
   "pygments_lexer": "ipython3",
   "version": "3.8.3"
  }
 },
 "nbformat": 4,
 "nbformat_minor": 4
}
